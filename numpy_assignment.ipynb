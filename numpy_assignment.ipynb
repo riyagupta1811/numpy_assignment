{
 "cells": [
  {
   "cell_type": "code",
   "execution_count": null,
   "id": "530bbb52-f90a-4db8-8ae8-efce099b0615",
   "metadata": {},
   "outputs": [],
   "source": [
    "#question 1"
   ]
  },
  {
   "cell_type": "markdown",
   "id": "97f04838-ecf6-4c7f-a35a-43eb90e148c7",
   "metadata": {},
   "source": [
    "A Python library is a collection of pre-written code, functions, classes, and modules that you can use to perform specific tasks without having to write the code from scratch. These libraries are bundled into a single package, making it easier for developers to implement complex functionalities efficiently.\n",
    "\n",
    "Why do we use Python Library\n",
    "\n",
    "1. Code Reusability\n",
    "2. Faster development\n",
    "3. Community support\n",
    "4. Specialized Functionality\n",
    "5. Optimization\n",
    "6. Better Organization"
   ]
  },
  {
   "cell_type": "code",
   "execution_count": null,
   "id": "6c2f8c2f-bd74-4db7-a2e6-a8a02d46a974",
   "metadata": {},
   "outputs": [],
   "source": [
    "#question 2"
   ]
  },
  {
   "cell_type": "markdown",
   "id": "1aa3e6b9-22f7-4232-8bf5-af62e9cd95c8",
   "metadata": {},
   "source": [
    "A NumPy Array and a Python List differ significantly in terms of data handling, performance, and functionality. While a Python list can store elements of different data types, a NumPy array requires all elements to be of the same type, which allows for more efficient memory usage and faster operations. NumPy arrays are optimized for numerical computations, supporting vectorized operations that perform calculations on entire arrays at once, making them much faster for large-scale data processing compared to Python lists, which require loops for element-wise operations. Additionally, NumPy arrays support multi-dimensional data structures, such as matrices or higher-dimensional arrays, and come with a wide range of mathematical functions, which Python lists lack. Lists in Python, on the other hand, are more flexible, allowing dynamic resizing and holding mixed types, but they are less memory-efficient and slower when handling numerical tasks. In terms of scientific computing, NumPy excels with specialized features for linear algebra, random number generation, and more, while Python lists remain general-purpose containers, suitable for a wide variety of tasks but not designed for complex numerical operations. Overall, while Python lists are versatile and suitable for basic data storage, NumPy arrays are the preferred choice for performance-intensive operations and scientific computing."
   ]
  },
  {
   "cell_type": "code",
   "execution_count": null,
   "id": "c4ba8f73-44c0-4602-801f-ee6fefeccdfc",
   "metadata": {},
   "outputs": [],
   "source": [
    "#question 3"
   ]
  },
  {
   "cell_type": "code",
   "execution_count": 1,
   "id": "a56c2705-f231-4b05-94e2-76e5e42d1e66",
   "metadata": {},
   "outputs": [
    {
     "name": "stdout",
     "output_type": "stream",
     "text": [
      "Shape: (3, 4)\n",
      "Size: 12\n",
      "Dimension: 2\n"
     ]
    }
   ],
   "source": [
    "import numpy as np\n",
    "\n",
    "array = np.array([[1, 2, 3, 4],\n",
    "                  [5, 6, 7, 8],\n",
    "                  [9, 10, 11, 12]])\n",
    "\n",
    "# Finding shape, size, and dimension\n",
    "shape = array.shape  # Shape of the array\n",
    "size = array.size    # Total number of elements\n",
    "dim = array.ndim     # Number of dimensions\n",
    "\n",
    "print(\"Shape:\", shape)\n",
    "print(\"Size:\", size)\n",
    "print(\"Dimension:\", dim)\n"
   ]
  },
  {
   "cell_type": "code",
   "execution_count": null,
   "id": "e451a55a-34b9-4006-bf7f-01898fc66d7a",
   "metadata": {},
   "outputs": [],
   "source": [
    "#question 4"
   ]
  },
  {
   "cell_type": "code",
   "execution_count": 2,
   "id": "b665c4b4-04b8-4b92-9bef-3dc576ab8459",
   "metadata": {},
   "outputs": [
    {
     "name": "stdout",
     "output_type": "stream",
     "text": [
      "First Row: [1 2 3 4]\n"
     ]
    }
   ],
   "source": [
    "# Accessing the first row\n",
    "first_row = array[0] \n",
    "print(\"First Row:\", first_row)\n"
   ]
  },
  {
   "cell_type": "code",
   "execution_count": null,
   "id": "3b26c947-9b96-41a3-b461-eb464edf694a",
   "metadata": {},
   "outputs": [],
   "source": [
    "#question 5"
   ]
  },
  {
   "cell_type": "code",
   "execution_count": 3,
   "id": "5e9dfa75-46f5-4e06-88c4-a91eb073fb81",
   "metadata": {},
   "outputs": [
    {
     "name": "stdout",
     "output_type": "stream",
     "text": [
      "Element at third row and fourth column: 12\n"
     ]
    }
   ],
   "source": [
    "# Accessing the element at the 3rd row and 4th column\n",
    "element = array[2, 3]  # Indexing starts from 0, so [2, 3] refers to the 3rd row, 4th column\n",
    "print(\"Element at third row and fourth column:\", element)"
   ]
  },
  {
   "cell_type": "code",
   "execution_count": null,
   "id": "fa40448c-908c-414c-a9af-4032c9a0307d",
   "metadata": {},
   "outputs": [],
   "source": [
    "#question 6"
   ]
  },
  {
   "cell_type": "code",
   "execution_count": 4,
   "id": "4e4217a8-d744-4446-9f15-8a010673cbcc",
   "metadata": {},
   "outputs": [
    {
     "name": "stdout",
     "output_type": "stream",
     "text": [
      "Odd-indexed elements:\n",
      " [[6 8]]\n"
     ]
    }
   ],
   "source": [
    "# Extracting all odd-indexed elements\n",
    "odd_elements = array[1::2, 1::2]  # Slicing rows and columns starting from index 1 with a step of 2\n",
    "print(\"Odd-indexed elements:\\n\", odd_elements)\n"
   ]
  },
  {
   "cell_type": "code",
   "execution_count": null,
   "id": "4a306d5e-cb35-4474-80fd-722d7543f364",
   "metadata": {},
   "outputs": [],
   "source": [
    "#question 7"
   ]
  },
  {
   "cell_type": "code",
   "execution_count": 5,
   "id": "0e08d235-e71c-4a32-bb16-e0fda00e743e",
   "metadata": {},
   "outputs": [
    {
     "name": "stdout",
     "output_type": "stream",
     "text": [
      "Random 3x3 Matrix:\n",
      " [[0.6951791  0.27354945 0.72454336]\n",
      " [0.69197996 0.89734105 0.98552611]\n",
      " [0.12324192 0.63169528 0.28754974]]\n"
     ]
    }
   ],
   "source": [
    "import numpy as np\n",
    "\n",
    "# Generate a random 3x3 matrix with values between 0 and 1\n",
    "random_matrix = np.random.rand(3, 3)\n",
    "print(\"Random 3x3 Matrix:\\n\", random_matrix)"
   ]
  },
  {
   "cell_type": "code",
   "execution_count": null,
   "id": "cdca1c68-b2ba-4cd9-bb5f-62a6c4f6bc00",
   "metadata": {},
   "outputs": [],
   "source": [
    "#question 8"
   ]
  },
  {
   "cell_type": "markdown",
   "id": "9f0cbefb-2ca7-4e5f-9f54-10ca74a74bb6",
   "metadata": {},
   "source": [
    "The main difference between np.random.rand and np.random.randn lies in the distribution of the generated values. The function np.random.rand generates random values that are uniformly distributed between 0 and 1, meaning all values within this range are equally likely to occur. On the other hand, np.random.randn generates random values from a standard normal distribution, also known as a Gaussian distribution, where the mean is 0 and the standard deviation is 1. In this case, the values are more likely to cluster around 0, with fewer values occurring as they deviate further from the mean. Both functions take the dimensions of the desired array as arguments, but they are used for different purposes: np.random.rand is ideal for generating random values in a fixed range (e.g., probabilities or weights), while np.random.randn is used for applications requiring normally distributed data, such as statistical modeling or machine learning initialization."
   ]
  },
  {
   "cell_type": "code",
   "execution_count": null,
   "id": "49150e1d-8f90-4d99-9307-b5da26c51ead",
   "metadata": {},
   "outputs": [],
   "source": [
    "#question 9"
   ]
  },
  {
   "cell_type": "code",
   "execution_count": 6,
   "id": "36ebe2a6-f362-4589-a437-41a6798fe8b8",
   "metadata": {},
   "outputs": [
    {
     "name": "stdout",
     "output_type": "stream",
     "text": [
      "Increased Dimension (axis=0):\n",
      " [[[ 1  2  3  4]\n",
      "  [ 5  6  7  8]\n",
      "  [ 9 10 11 12]]]\n"
     ]
    }
   ],
   "source": [
    "import numpy as np\n",
    "\n",
    "# Original array\n",
    "array = np.array([[1, 2, 3, 4],\n",
    "                  [5, 6, 7, 8],\n",
    "                  [9, 10, 11, 12]])\n",
    "\n",
    "# Increase dimension using np.expand_dims\n",
    "increased_dim_1 = np.expand_dims(array, axis=0)  # Add a new axis at the front\n",
    "print(\"Increased Dimension (axis=0):\\n\", increased_dim_1)"
   ]
  },
  {
   "cell_type": "code",
   "execution_count": null,
   "id": "2feaa20c-460b-49ed-9a9e-84002b7b6954",
   "metadata": {},
   "outputs": [],
   "source": [
    "#question 10"
   ]
  },
  {
   "cell_type": "code",
   "execution_count": 7,
   "id": "b9dcfe99-4080-4788-aa43-10f5be89ac6f",
   "metadata": {},
   "outputs": [
    {
     "name": "stdout",
     "output_type": "stream",
     "text": [
      "Transposed Array:\n",
      " [[ 1  5  9]\n",
      " [ 2  6 10]\n",
      " [ 3  7 11]\n",
      " [ 4  8 12]]\n"
     ]
    }
   ],
   "source": [
    "# Transpose the array\n",
    "transposed_array = array.T \n",
    "print(\"Transposed Array:\\n\", transposed_array)\n"
   ]
  },
  {
   "cell_type": "code",
   "execution_count": null,
   "id": "5fff9f56-b361-4985-b167-6122bc7e7942",
   "metadata": {},
   "outputs": [],
   "source": [
    "#question 11"
   ]
  },
  {
   "cell_type": "code",
   "execution_count": 8,
   "id": "03c133f4-0b52-4dbc-937d-5250e84cbe3f",
   "metadata": {},
   "outputs": [
    {
     "name": "stdout",
     "output_type": "stream",
     "text": [
      "Index-wise Multiplication:\n",
      " [[  1   4   9  16]\n",
      " [ 25  36  49  64]\n",
      " [ 81 100 121 144]]\n",
      "Matrix Multiplication:\n",
      " [[ 30  70 110]\n",
      " [ 70 174 278]\n",
      " [110 278 446]]\n",
      "Addition of Matrices:\n",
      " [[ 2  4  6  8]\n",
      " [10 12 14 16]\n",
      " [18 20 22 24]]\n",
      "Subtraction (A - B):\n",
      " [[0 0 0 0]\n",
      " [0 0 0 0]\n",
      " [0 0 0 0]]\n",
      "Division of Matrices (B / A):\n",
      " [[1. 1. 1. 1.]\n",
      " [1. 1. 1. 1.]\n",
      " [1. 1. 1. 1.]]\n"
     ]
    }
   ],
   "source": [
    "import numpy as np\n",
    "\n",
    "# Define matrices\n",
    "A = np.array([[1, 2, 3, 4],\n",
    "              [5, 6, 7, 8],\n",
    "              [9, 10, 11, 12]])\n",
    "\n",
    "B = np.array([[1, 2, 3, 4],\n",
    "              [5, 6, 7, 8],\n",
    "              [9, 10, 11, 12]])\n",
    "\n",
    "# 1. Index-wise Multiplication\n",
    "index_wise_multiplication = A * B\n",
    "print(\"Index-wise Multiplication:\\n\", index_wise_multiplication)\n",
    "\n",
    "# 2. Matrix Multiplication\n",
    "matrix_multiplication = np.dot(A, B.T)  # Transpose B for matrix multiplication\n",
    "print(\"Matrix Multiplication:\\n\", matrix_multiplication)\n",
    "\n",
    "# 3. Add Both Matrices\n",
    "matrix_addition = A + B\n",
    "print(\"Addition of Matrices:\\n\", matrix_addition)\n",
    "\n",
    "# 4. Subtract Matrix B from Matrix A\n",
    "matrix_subtraction = A - B\n",
    "print(\"Subtraction (A - B):\\n\", matrix_subtraction)\n",
    "\n",
    "# 5. Divide Matrix B by Matrix A\n",
    "matrix_division = B / A\n",
    "print(\"Division of Matrices (B / A):\\n\", matrix_division)"
   ]
  },
  {
   "cell_type": "code",
   "execution_count": null,
   "id": "513c80d1-920b-4e03-b05d-a22147997d99",
   "metadata": {},
   "outputs": [],
   "source": [
    "#question 12"
   ]
  },
  {
   "cell_type": "markdown",
   "id": "e21083c9-9759-4793-ac23-a8b20e91e08f",
   "metadata": {},
   "source": [
    "The np.ndarray.byteswap() function is used to swap the byte order of an array. This is particularly useful when working with data stored in a format with a different endianness than the current system."
   ]
  },
  {
   "cell_type": "code",
   "execution_count": null,
   "id": "064637e9-85a4-471b-9034-2678fd171273",
   "metadata": {},
   "outputs": [],
   "source": [
    "#question 13"
   ]
  },
  {
   "cell_type": "markdown",
   "id": "7987ed35-1cce-4d70-af0c-477ff883b1d2",
   "metadata": {},
   "source": [
    " This function is widely used in linear algebra and applications like solving systems of linear equations.\n",
    "\n",
    "1. It allows for solving matrix equations of the form AX = B by computing X = A^-1 B\n",
    "2. It is essential for various numerical and computational algorithms in data science, machine learning, and engineering."
   ]
  },
  {
   "cell_type": "code",
   "execution_count": null,
   "id": "64d5504f-5bf4-46b3-a773-933313052911",
   "metadata": {},
   "outputs": [],
   "source": [
    "#question 14"
   ]
  },
  {
   "cell_type": "markdown",
   "id": "b6509ba0-8dee-41b7-b74e-d6796bd4e864",
   "metadata": {},
   "source": [
    "The np.reshape function changes the shape of an existing NumPy array without modifying its data. It allows you to rearrange the elements of an array into a new shape, provided the total number of elements remains the same.\n",
    "\n",
    "Usage:\n",
    "1. Rearrange a flat array into a multi-dimensional array or vice versa.\n",
    "2. Change the dimensions of an array to fit specific requirements (e.g., reshaping for machine learning models)."
   ]
  },
  {
   "cell_type": "code",
   "execution_count": null,
   "id": "38b7a70d-4621-4a0d-b348-def7f26f6219",
   "metadata": {},
   "outputs": [],
   "source": [
    "#question 15"
   ]
  },
  {
   "cell_type": "markdown",
   "id": "8d33eaac-d8a6-458e-93d3-daee50b6353d",
   "metadata": {},
   "source": [
    "Broadcasting is a powerful feature in NumPy that allows operations on arrays of different shapes by automatically expanding the smaller array to match the shape of the larger array. This eliminates the need for manual replication of data and makes operations more efficient."
   ]
  }
 ],
 "metadata": {
  "kernelspec": {
   "display_name": "Python 3 (ipykernel)",
   "language": "python",
   "name": "python3"
  },
  "language_info": {
   "codemirror_mode": {
    "name": "ipython",
    "version": 3
   },
   "file_extension": ".py",
   "mimetype": "text/x-python",
   "name": "python",
   "nbconvert_exporter": "python",
   "pygments_lexer": "ipython3",
   "version": "3.12.1"
  }
 },
 "nbformat": 4,
 "nbformat_minor": 5
}
